{
 "cells": [
  {
   "cell_type": "markdown",
   "metadata": {},
   "source": [
    "employment data for a college organized by major and major category\n",
    "what major has the best employment rate"
   ]
  },
  {
   "cell_type": "code",
   "execution_count": 1,
   "metadata": {},
   "outputs": [],
   "source": [
    "import pandas as pd\n",
    "import numpy as np\n",
    "#import io\n",
    "#import requests"
   ]
  },
  {
   "cell_type": "code",
   "execution_count": 2,
   "metadata": {},
   "outputs": [],
   "source": [
    "url = 'https://raw.githubusercontent.com/fivethirtyeight/data/master/college-majors/all-ages.csv'\n",
    "\n",
    "# college_data = requests.get(url).content\n",
    "#college_major = pd.read_csv(io.StringIO(college_data.decode('utf-8')))\n",
    "college_major = pd.read_csv(url)"
   ]
  },
  {
   "cell_type": "code",
   "execution_count": 3,
   "metadata": {},
   "outputs": [
    {
     "data": {
      "text/plain": [
       "Index(['Major_code', 'Major', 'Major_category', 'Total', 'Employed',\n",
       "       'Employed_full_time_year_round', 'Unemployed', 'Unemployment_rate',\n",
       "       'Median', 'P25th', 'P75th'],\n",
       "      dtype='object')"
      ]
     },
     "execution_count": 3,
     "metadata": {},
     "output_type": "execute_result"
    }
   ],
   "source": [
    "college_major.columns"
   ]
  },
  {
   "cell_type": "code",
   "execution_count": 4,
   "metadata": {},
   "outputs": [
    {
     "data": {
      "text/plain": [
       "(173, 11)"
      ]
     },
     "execution_count": 4,
     "metadata": {},
     "output_type": "execute_result"
    }
   ],
   "source": [
    "college_major.shape"
   ]
  },
  {
   "cell_type": "code",
   "execution_count": 5,
   "metadata": {},
   "outputs": [
    {
     "data": {
      "text/plain": [
       "Major_code                       0\n",
       "Major                            0\n",
       "Major_category                   0\n",
       "Total                            0\n",
       "Employed                         0\n",
       "Employed_full_time_year_round    0\n",
       "Unemployed                       0\n",
       "Unemployment_rate                0\n",
       "Median                           0\n",
       "P25th                            0\n",
       "P75th                            0\n",
       "dtype: int64"
      ]
     },
     "execution_count": 5,
     "metadata": {},
     "output_type": "execute_result"
    }
   ],
   "source": [
    "college_major.isnull().sum()"
   ]
  },
  {
   "cell_type": "markdown",
   "metadata": {},
   "source": [
    "turn the major column in to the index values\n",
    "drop uneccessary columns and rename the Employed_full_time_year_round column"
   ]
  },
  {
   "cell_type": "code",
   "execution_count": 15,
   "metadata": {},
   "outputs": [
    {
     "data": {
      "text/html": [
       "<div>\n",
       "<style scoped>\n",
       "    .dataframe tbody tr th:only-of-type {\n",
       "        vertical-align: middle;\n",
       "    }\n",
       "\n",
       "    .dataframe tbody tr th {\n",
       "        vertical-align: top;\n",
       "    }\n",
       "\n",
       "    .dataframe thead th {\n",
       "        text-align: right;\n",
       "    }\n",
       "</style>\n",
       "<table border=\"1\" class=\"dataframe\">\n",
       "  <thead>\n",
       "    <tr style=\"text-align: right;\">\n",
       "      <th></th>\n",
       "      <th>Major_code</th>\n",
       "      <th>Major_category</th>\n",
       "      <th>Total</th>\n",
       "      <th>Employed</th>\n",
       "      <th>Employed_FT_YR</th>\n",
       "      <th>Unemployed</th>\n",
       "      <th>Unemployment_rate</th>\n",
       "    </tr>\n",
       "    <tr>\n",
       "      <th>Major</th>\n",
       "      <th></th>\n",
       "      <th></th>\n",
       "      <th></th>\n",
       "      <th></th>\n",
       "      <th></th>\n",
       "      <th></th>\n",
       "      <th></th>\n",
       "    </tr>\n",
       "  </thead>\n",
       "  <tbody>\n",
       "    <tr>\n",
       "      <th>GENERAL AGRICULTURE</th>\n",
       "      <td>1100</td>\n",
       "      <td>Agriculture &amp; Natural Resources</td>\n",
       "      <td>128148</td>\n",
       "      <td>90245</td>\n",
       "      <td>74078</td>\n",
       "      <td>2423</td>\n",
       "      <td>0.026147</td>\n",
       "    </tr>\n",
       "    <tr>\n",
       "      <th>AGRICULTURE PRODUCTION AND MANAGEMENT</th>\n",
       "      <td>1101</td>\n",
       "      <td>Agriculture &amp; Natural Resources</td>\n",
       "      <td>95326</td>\n",
       "      <td>76865</td>\n",
       "      <td>64240</td>\n",
       "      <td>2266</td>\n",
       "      <td>0.028636</td>\n",
       "    </tr>\n",
       "    <tr>\n",
       "      <th>AGRICULTURAL ECONOMICS</th>\n",
       "      <td>1102</td>\n",
       "      <td>Agriculture &amp; Natural Resources</td>\n",
       "      <td>33955</td>\n",
       "      <td>26321</td>\n",
       "      <td>22810</td>\n",
       "      <td>821</td>\n",
       "      <td>0.030248</td>\n",
       "    </tr>\n",
       "  </tbody>\n",
       "</table>\n",
       "</div>"
      ],
      "text/plain": [
       "                                       Major_code  \\\n",
       "Major                                               \n",
       "GENERAL AGRICULTURE                          1100   \n",
       "AGRICULTURE PRODUCTION AND MANAGEMENT        1101   \n",
       "AGRICULTURAL ECONOMICS                       1102   \n",
       "\n",
       "                                                        Major_category  \\\n",
       "Major                                                                    \n",
       "GENERAL AGRICULTURE                    Agriculture & Natural Resources   \n",
       "AGRICULTURE PRODUCTION AND MANAGEMENT  Agriculture & Natural Resources   \n",
       "AGRICULTURAL ECONOMICS                 Agriculture & Natural Resources   \n",
       "\n",
       "                                        Total  Employed  Employed_FT_YR  \\\n",
       "Major                                                                     \n",
       "GENERAL AGRICULTURE                    128148     90245           74078   \n",
       "AGRICULTURE PRODUCTION AND MANAGEMENT   95326     76865           64240   \n",
       "AGRICULTURAL ECONOMICS                  33955     26321           22810   \n",
       "\n",
       "                                       Unemployed  Unemployment_rate  \n",
       "Major                                                                 \n",
       "GENERAL AGRICULTURE                          2423           0.026147  \n",
       "AGRICULTURE PRODUCTION AND MANAGEMENT        2266           0.028636  \n",
       "AGRICULTURAL ECONOMICS                        821           0.030248  "
      ]
     },
     "execution_count": 15,
     "metadata": {},
     "output_type": "execute_result"
    }
   ],
   "source": [
    "new_col_major = college_major.set_index('Major').drop(['Median', 'P25th', 'P75th'], axis=1)\n",
    "new_col_major.rename(columns={'Employed_full_time_year_round':'Employed_FT_YR'}, inplace=True)\n",
    "new_col_major[:3]"
   ]
  },
  {
   "cell_type": "markdown",
   "metadata": {},
   "source": [
    "Which major has the highest rate of full time employment?\n",
    "Military Technologies is on top but it says it has more people employed full time year round then it had in the total employed column. This appears to be a mistake.\n",
    "Nuclear Enginnering would have the highest rate.\n",
    "\n",
    "Which major has the highest unemployment rate?\n",
    "Miscellaneous Fine Arts"
   ]
  },
  {
   "cell_type": "markdown",
   "metadata": {},
   "source": [
    "calc the employment rate for the major and add to data sort by employment rate"
   ]
  },
  {
   "cell_type": "code",
   "execution_count": 16,
   "metadata": {},
   "outputs": [],
   "source": [
    "new_col_major['Full_Time_Employment_rate'] = new_col_major['Employed_FT_YR'] / new_col_major['Employed']"
   ]
  },
  {
   "cell_type": "code",
   "execution_count": 17,
   "metadata": {},
   "outputs": [
    {
     "data": {
      "text/html": [
       "<div>\n",
       "<style scoped>\n",
       "    .dataframe tbody tr th:only-of-type {\n",
       "        vertical-align: middle;\n",
       "    }\n",
       "\n",
       "    .dataframe tbody tr th {\n",
       "        vertical-align: top;\n",
       "    }\n",
       "\n",
       "    .dataframe thead th {\n",
       "        text-align: right;\n",
       "    }\n",
       "</style>\n",
       "<table border=\"1\" class=\"dataframe\">\n",
       "  <thead>\n",
       "    <tr style=\"text-align: right;\">\n",
       "      <th></th>\n",
       "      <th>Major_code</th>\n",
       "      <th>Major_category</th>\n",
       "      <th>Total</th>\n",
       "      <th>Employed</th>\n",
       "      <th>Employed_FT_YR</th>\n",
       "      <th>Unemployed</th>\n",
       "      <th>Unemployment_rate</th>\n",
       "      <th>Full_Time_Employment_rate</th>\n",
       "    </tr>\n",
       "    <tr>\n",
       "      <th>Major</th>\n",
       "      <th></th>\n",
       "      <th></th>\n",
       "      <th></th>\n",
       "      <th></th>\n",
       "      <th></th>\n",
       "      <th></th>\n",
       "      <th></th>\n",
       "      <th></th>\n",
       "    </tr>\n",
       "  </thead>\n",
       "  <tbody>\n",
       "    <tr>\n",
       "      <th>MILITARY TECHNOLOGIES</th>\n",
       "      <td>3801</td>\n",
       "      <td>Industrial Arts &amp; Consumer Services</td>\n",
       "      <td>4315</td>\n",
       "      <td>1650</td>\n",
       "      <td>1708</td>\n",
       "      <td>187</td>\n",
       "      <td>0.101796</td>\n",
       "      <td>1.035152</td>\n",
       "    </tr>\n",
       "    <tr>\n",
       "      <th>NUCLEAR ENGINEERING</th>\n",
       "      <td>2418</td>\n",
       "      <td>Engineering</td>\n",
       "      <td>9826</td>\n",
       "      <td>7320</td>\n",
       "      <td>6474</td>\n",
       "      <td>527</td>\n",
       "      <td>0.067159</td>\n",
       "      <td>0.884426</td>\n",
       "    </tr>\n",
       "    <tr>\n",
       "      <th>MECHANICAL ENGINEERING RELATED TECHNOLOGIES</th>\n",
       "      <td>2504</td>\n",
       "      <td>Engineering</td>\n",
       "      <td>29348</td>\n",
       "      <td>24190</td>\n",
       "      <td>21273</td>\n",
       "      <td>1101</td>\n",
       "      <td>0.043533</td>\n",
       "      <td>0.879413</td>\n",
       "    </tr>\n",
       "  </tbody>\n",
       "</table>\n",
       "</div>"
      ],
      "text/plain": [
       "                                             Major_code  \\\n",
       "Major                                                     \n",
       "MILITARY TECHNOLOGIES                              3801   \n",
       "NUCLEAR ENGINEERING                                2418   \n",
       "MECHANICAL ENGINEERING RELATED TECHNOLOGIES        2504   \n",
       "\n",
       "                                                                  Major_category  \\\n",
       "Major                                                                              \n",
       "MILITARY TECHNOLOGIES                        Industrial Arts & Consumer Services   \n",
       "NUCLEAR ENGINEERING                                                  Engineering   \n",
       "MECHANICAL ENGINEERING RELATED TECHNOLOGIES                          Engineering   \n",
       "\n",
       "                                             Total  Employed  Employed_FT_YR  \\\n",
       "Major                                                                          \n",
       "MILITARY TECHNOLOGIES                         4315      1650            1708   \n",
       "NUCLEAR ENGINEERING                           9826      7320            6474   \n",
       "MECHANICAL ENGINEERING RELATED TECHNOLOGIES  29348     24190           21273   \n",
       "\n",
       "                                             Unemployed  Unemployment_rate  \\\n",
       "Major                                                                        \n",
       "MILITARY TECHNOLOGIES                               187           0.101796   \n",
       "NUCLEAR ENGINEERING                                 527           0.067159   \n",
       "MECHANICAL ENGINEERING RELATED TECHNOLOGIES        1101           0.043533   \n",
       "\n",
       "                                             Full_Time_Employment_rate  \n",
       "Major                                                                   \n",
       "MILITARY TECHNOLOGIES                                         1.035152  \n",
       "NUCLEAR ENGINEERING                                           0.884426  \n",
       "MECHANICAL ENGINEERING RELATED TECHNOLOGIES                   0.879413  "
      ]
     },
     "execution_count": 17,
     "metadata": {},
     "output_type": "execute_result"
    }
   ],
   "source": [
    "new_col_major.sort_values('Full_Time_Employment_rate', ascending=False)[:3]"
   ]
  },
  {
   "cell_type": "markdown",
   "metadata": {},
   "source": [
    "cort by unemployment rate"
   ]
  },
  {
   "cell_type": "code",
   "execution_count": 18,
   "metadata": {},
   "outputs": [
    {
     "data": {
      "text/html": [
       "<div>\n",
       "<style scoped>\n",
       "    .dataframe tbody tr th:only-of-type {\n",
       "        vertical-align: middle;\n",
       "    }\n",
       "\n",
       "    .dataframe tbody tr th {\n",
       "        vertical-align: top;\n",
       "    }\n",
       "\n",
       "    .dataframe thead th {\n",
       "        text-align: right;\n",
       "    }\n",
       "</style>\n",
       "<table border=\"1\" class=\"dataframe\">\n",
       "  <thead>\n",
       "    <tr style=\"text-align: right;\">\n",
       "      <th></th>\n",
       "      <th>Major_code</th>\n",
       "      <th>Major_category</th>\n",
       "      <th>Total</th>\n",
       "      <th>Employed</th>\n",
       "      <th>Employed_FT_YR</th>\n",
       "      <th>Unemployed</th>\n",
       "      <th>Unemployment_rate</th>\n",
       "      <th>Full_Time_Employment_rate</th>\n",
       "    </tr>\n",
       "    <tr>\n",
       "      <th>Major</th>\n",
       "      <th></th>\n",
       "      <th></th>\n",
       "      <th></th>\n",
       "      <th></th>\n",
       "      <th></th>\n",
       "      <th></th>\n",
       "      <th></th>\n",
       "      <th></th>\n",
       "    </tr>\n",
       "  </thead>\n",
       "  <tbody>\n",
       "    <tr>\n",
       "      <th>MISCELLANEOUS FINE ARTS</th>\n",
       "      <td>6099</td>\n",
       "      <td>Arts</td>\n",
       "      <td>8511</td>\n",
       "      <td>6431</td>\n",
       "      <td>3802</td>\n",
       "      <td>1190</td>\n",
       "      <td>0.156147</td>\n",
       "      <td>0.591199</td>\n",
       "    </tr>\n",
       "    <tr>\n",
       "      <th>CLINICAL PSYCHOLOGY</th>\n",
       "      <td>5202</td>\n",
       "      <td>Psychology &amp; Social Work</td>\n",
       "      <td>7638</td>\n",
       "      <td>5128</td>\n",
       "      <td>3297</td>\n",
       "      <td>587</td>\n",
       "      <td>0.102712</td>\n",
       "      <td>0.642941</td>\n",
       "    </tr>\n",
       "    <tr>\n",
       "      <th>MILITARY TECHNOLOGIES</th>\n",
       "      <td>3801</td>\n",
       "      <td>Industrial Arts &amp; Consumer Services</td>\n",
       "      <td>4315</td>\n",
       "      <td>1650</td>\n",
       "      <td>1708</td>\n",
       "      <td>187</td>\n",
       "      <td>0.101796</td>\n",
       "      <td>1.035152</td>\n",
       "    </tr>\n",
       "  </tbody>\n",
       "</table>\n",
       "</div>"
      ],
      "text/plain": [
       "                         Major_code                       Major_category  \\\n",
       "Major                                                                      \n",
       "MISCELLANEOUS FINE ARTS        6099                                 Arts   \n",
       "CLINICAL PSYCHOLOGY            5202             Psychology & Social Work   \n",
       "MILITARY TECHNOLOGIES          3801  Industrial Arts & Consumer Services   \n",
       "\n",
       "                         Total  Employed  Employed_FT_YR  Unemployed  \\\n",
       "Major                                                                  \n",
       "MISCELLANEOUS FINE ARTS   8511      6431            3802        1190   \n",
       "CLINICAL PSYCHOLOGY       7638      5128            3297         587   \n",
       "MILITARY TECHNOLOGIES     4315      1650            1708         187   \n",
       "\n",
       "                         Unemployment_rate  Full_Time_Employment_rate  \n",
       "Major                                                                  \n",
       "MISCELLANEOUS FINE ARTS           0.156147                   0.591199  \n",
       "CLINICAL PSYCHOLOGY               0.102712                   0.642941  \n",
       "MILITARY TECHNOLOGIES             0.101796                   1.035152  "
      ]
     },
     "execution_count": 18,
     "metadata": {},
     "output_type": "execute_result"
    }
   ],
   "source": [
    "new_col_major.sort_values('Unemployment_rate', ascending=False)[:3]"
   ]
  },
  {
   "cell_type": "code",
   "execution_count": null,
   "metadata": {},
   "outputs": [],
   "source": []
  },
  {
   "cell_type": "code",
   "execution_count": null,
   "metadata": {},
   "outputs": [],
   "source": []
  }
 ],
 "metadata": {
  "kernelspec": {
   "display_name": "Python 3",
   "language": "python",
   "name": "python3"
  },
  "language_info": {
   "codemirror_mode": {
    "name": "ipython",
    "version": 3
   },
   "file_extension": ".py",
   "mimetype": "text/x-python",
   "name": "python",
   "nbconvert_exporter": "python",
   "pygments_lexer": "ipython3",
   "version": "3.6.5"
  }
 },
 "nbformat": 4,
 "nbformat_minor": 2
}
